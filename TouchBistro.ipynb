{
 "cells": [
  {
   "cell_type": "markdown",
   "metadata": {},
   "source": [
    "# Touch Bistro Cxc "
   ]
  },
  {
   "cell_type": "markdown",
   "metadata": {},
   "source": [
    "## Data Description"
   ]
  },
  {
   "cell_type": "markdown",
   "metadata": {},
   "source": [
    "### Venues\n",
    "This dataset contains information about various venues, including the following fields:\n",
    "- venue_xref_id: Unique identifier for the venue\n",
    "- city: The city where the venue is located.\n",
    "- concept: The type or category of the venue, reflecting its primary theme or service style (e.g\n",
    "BAR, FINE DINING, CAFE, BREWERY).\n",
    "- country: The country where the venue is located.\n",
    "- start_of_day_offset: The starting hour of the business day (e.g., 05:00:00)."
   ]
  },
  {
   "cell_type": "markdown",
   "metadata": {},
   "source": [
    "### Bills\n",
    "This dataset contains details about each bill, including the following fields:\n",
    "- bill_paid_at_local: Datetime when the bill was paid, in the venue's local timezone.\n",
    "- bill_total_billed: Total amount billed, including tax.\n",
    "- bill_total_discount_item_level: Total discount amount applied to the bill.\n",
    "- bill_total_gratuity: Total gratuity paid for the bill.\n",
    "- bill_total_net: Net sales amount (post-discount), excluding tax or gratuity.\n",
    "- bill_total_tax: Total tax amount paid for the bill.\n",
    "- bill_total_voided: Total voided amount for the bill.\n",
    "- bill_uuid: Unique identifier for the bil\n",
    "- business_date: The operational date to which the bill item is attributed.\n",
    "- order_duration_seconds: Total duration of the order in seconds. However, please note that\n",
    "there may be instances of incorrect or anomalous data for this field. For example, orders plac\n",
    "via the Cash Register may occasionally show order_duration_seconds values exceeding a day,\n",
    "which is likely inaccurate.\n",
    "- order_seated_at_local: Datetime when the party was seated, in the venue's local timezone.\n",
    "- order_closed_at_local: Datetime when the order was closed, in the venue's local timezone.\n",
    "- order_take_out_type_label: Indicates the type of order (e.g., online order, bar tab, dine-in,\n",
    "takeout, delivery).\n",
    "- order_uuid: Unique identifier for the orde\n",
    "- payment_amount: Total amount paid for the bill.\n",
    "- payment_count: Number of payments made for the bill.\n",
    "- payment_total_tip: Total tip amount paid.\n",
    "- sales_revenue_with_tax: Total sales amount (including tax) as displayed on the bill,\n",
    "excluding gratuity.\n",
    "- venue_xref_id: Unique identifier for the venu\n",
    "\n",
    "- waiter_uuid: Unique identifier for the staff who processed the bil"
   ]
  },
  {
   "cell_type": "markdown",
   "metadata": {},
   "source": [
    "## Objective"
   ]
  },
  {
   "cell_type": "markdown",
   "metadata": {},
   "source": [
    "## Import Libraries"
   ]
  },
  {
   "cell_type": "code",
   "execution_count": 3,
   "metadata": {},
   "outputs": [],
   "source": [
    "import pandas as pd\n",
    "import numpy as np\n",
    "import matplotlib.pyplot as plt\n",
    "import seaborn as sns\n",
    "from sklearn.model_selection import train_test_split\n",
    "\n"
   ]
  },
  {
   "cell_type": "markdown",
   "metadata": {},
   "source": [
    "## Data Cleaning"
   ]
  },
  {
   "cell_type": "code",
   "execution_count": 5,
   "metadata": {},
   "outputs": [
    {
     "data": {
      "text/html": [
       "<div>\n",
       "<style scoped>\n",
       "    .dataframe tbody tr th:only-of-type {\n",
       "        vertical-align: middle;\n",
       "    }\n",
       "\n",
       "    .dataframe tbody tr th {\n",
       "        vertical-align: top;\n",
       "    }\n",
       "\n",
       "    .dataframe thead th {\n",
       "        text-align: right;\n",
       "    }\n",
       "</style>\n",
       "<table border=\"1\" class=\"dataframe\">\n",
       "  <thead>\n",
       "    <tr style=\"text-align: right;\">\n",
       "      <th></th>\n",
       "      <th>bill_paid_at_local</th>\n",
       "      <th>bill_total_billed</th>\n",
       "      <th>bill_total_discount_item_level</th>\n",
       "      <th>bill_total_gratuity</th>\n",
       "      <th>bill_total_net</th>\n",
       "      <th>bill_total_tax</th>\n",
       "      <th>bill_total_voided</th>\n",
       "      <th>bill_uuid</th>\n",
       "      <th>business_date</th>\n",
       "      <th>order_duration_seconds</th>\n",
       "      <th>order_seated_at_local</th>\n",
       "      <th>order_closed_at_local</th>\n",
       "      <th>order_take_out_type_label</th>\n",
       "      <th>order_uuid</th>\n",
       "      <th>payment_amount</th>\n",
       "      <th>payment_count</th>\n",
       "      <th>payment_total_tip</th>\n",
       "      <th>sales_revenue_with_tax</th>\n",
       "      <th>venue_xref_id</th>\n",
       "      <th>waiter_uuid</th>\n",
       "    </tr>\n",
       "  </thead>\n",
       "  <tbody>\n",
       "    <tr>\n",
       "      <th>0</th>\n",
       "      <td>2024-07-01 09:17:01</td>\n",
       "      <td>21.81</td>\n",
       "      <td>0.0</td>\n",
       "      <td>0.0</td>\n",
       "      <td>19.30</td>\n",
       "      <td>2.51</td>\n",
       "      <td>0.0</td>\n",
       "      <td>240701091701~4D63608F-523C-4EFF-9A4F-78D6C44B5159</td>\n",
       "      <td>2024-07-01</td>\n",
       "      <td>46</td>\n",
       "      <td>2024-07-01 09:16:15</td>\n",
       "      <td>2024-07-01 09:17:01</td>\n",
       "      <td>dinein</td>\n",
       "      <td>240701091615~EF1C6E91-B6C4-4DF1-8A92-1B024197FEC3</td>\n",
       "      <td>21.81</td>\n",
       "      <td>1</td>\n",
       "      <td>0.0</td>\n",
       "      <td>21.81</td>\n",
       "      <td>39e5b4830d4d9c14db7368a95b65d5463ea3d095203737...</td>\n",
       "      <td>161027134744~719D0E09-5CA7-442A-B9FA-BBBF4083B4FD</td>\n",
       "    </tr>\n",
       "    <tr>\n",
       "      <th>1</th>\n",
       "      <td>2024-07-01 13:37:00</td>\n",
       "      <td>48.95</td>\n",
       "      <td>0.0</td>\n",
       "      <td>0.0</td>\n",
       "      <td>43.32</td>\n",
       "      <td>5.63</td>\n",
       "      <td>0.0</td>\n",
       "      <td>240701133659~3A0BEDE2-E9E5-484D-B909-780E485F0D69</td>\n",
       "      <td>2024-07-01</td>\n",
       "      <td>288</td>\n",
       "      <td>2024-07-01 13:32:12</td>\n",
       "      <td>2024-07-01 13:37:00</td>\n",
       "      <td>dinein</td>\n",
       "      <td>240701133212~A4C33BFA-A54F-4627-B0C2-7428427FB5DE</td>\n",
       "      <td>48.95</td>\n",
       "      <td>1</td>\n",
       "      <td>0.0</td>\n",
       "      <td>48.95</td>\n",
       "      <td>39e5b4830d4d9c14db7368a95b65d5463ea3d095203737...</td>\n",
       "      <td>161027134744~719D0E09-5CA7-442A-B9FA-BBBF4083B4FD</td>\n",
       "    </tr>\n",
       "    <tr>\n",
       "      <th>2</th>\n",
       "      <td>2024-07-01 11:19:32</td>\n",
       "      <td>26.94</td>\n",
       "      <td>0.0</td>\n",
       "      <td>0.0</td>\n",
       "      <td>23.84</td>\n",
       "      <td>3.10</td>\n",
       "      <td>0.0</td>\n",
       "      <td>240701111931~670EEB85-E939-4924-B92F-C95076B7E930</td>\n",
       "      <td>2024-07-01</td>\n",
       "      <td>135</td>\n",
       "      <td>2024-07-01 11:17:17</td>\n",
       "      <td>2024-07-01 11:19:32</td>\n",
       "      <td>dinein</td>\n",
       "      <td>240701111717~6074B0AB-2432-484D-BC3F-55CC5D731818</td>\n",
       "      <td>26.94</td>\n",
       "      <td>1</td>\n",
       "      <td>0.0</td>\n",
       "      <td>26.94</td>\n",
       "      <td>39e5b4830d4d9c14db7368a95b65d5463ea3d095203737...</td>\n",
       "      <td>161027134744~719D0E09-5CA7-442A-B9FA-BBBF4083B4FD</td>\n",
       "    </tr>\n",
       "    <tr>\n",
       "      <th>3</th>\n",
       "      <td>2024-07-01 15:05:59</td>\n",
       "      <td>3.96</td>\n",
       "      <td>0.0</td>\n",
       "      <td>0.0</td>\n",
       "      <td>3.77</td>\n",
       "      <td>0.19</td>\n",
       "      <td>0.0</td>\n",
       "      <td>240701150558~3D6F473E-D5EF-4BB8-AFAB-30DB2A0764C0</td>\n",
       "      <td>2024-07-01</td>\n",
       "      <td>48</td>\n",
       "      <td>2024-07-01 15:05:11</td>\n",
       "      <td>2024-07-01 15:05:59</td>\n",
       "      <td>dinein</td>\n",
       "      <td>240701150511~EAA68F41-20ED-4FC7-B902-B0B3878AEC82</td>\n",
       "      <td>3.96</td>\n",
       "      <td>1</td>\n",
       "      <td>0.0</td>\n",
       "      <td>3.96</td>\n",
       "      <td>39e5b4830d4d9c14db7368a95b65d5463ea3d095203737...</td>\n",
       "      <td>161027134744~719D0E09-5CA7-442A-B9FA-BBBF4083B4FD</td>\n",
       "    </tr>\n",
       "    <tr>\n",
       "      <th>4</th>\n",
       "      <td>2024-07-01 12:41:00</td>\n",
       "      <td>3.36</td>\n",
       "      <td>0.0</td>\n",
       "      <td>0.0</td>\n",
       "      <td>3.20</td>\n",
       "      <td>0.16</td>\n",
       "      <td>0.0</td>\n",
       "      <td>240701124059~0521794C-51FC-4C30-A368-995CE4DE105F</td>\n",
       "      <td>2024-07-01</td>\n",
       "      <td>103</td>\n",
       "      <td>2024-07-01 12:39:17</td>\n",
       "      <td>2024-07-01 12:41:00</td>\n",
       "      <td>dinein</td>\n",
       "      <td>240701123917~27764E1C-7E7F-4293-ABC7-5921310A654A</td>\n",
       "      <td>3.36</td>\n",
       "      <td>1</td>\n",
       "      <td>0.0</td>\n",
       "      <td>3.36</td>\n",
       "      <td>39e5b4830d4d9c14db7368a95b65d5463ea3d095203737...</td>\n",
       "      <td>161027134744~719D0E09-5CA7-442A-B9FA-BBBF4083B4FD</td>\n",
       "    </tr>\n",
       "  </tbody>\n",
       "</table>\n",
       "</div>"
      ],
      "text/plain": [
       "    bill_paid_at_local  bill_total_billed  bill_total_discount_item_level  \\\n",
       "0  2024-07-01 09:17:01              21.81                             0.0   \n",
       "1  2024-07-01 13:37:00              48.95                             0.0   \n",
       "2  2024-07-01 11:19:32              26.94                             0.0   \n",
       "3  2024-07-01 15:05:59               3.96                             0.0   \n",
       "4  2024-07-01 12:41:00               3.36                             0.0   \n",
       "\n",
       "   bill_total_gratuity  bill_total_net  bill_total_tax  bill_total_voided  \\\n",
       "0                  0.0           19.30            2.51                0.0   \n",
       "1                  0.0           43.32            5.63                0.0   \n",
       "2                  0.0           23.84            3.10                0.0   \n",
       "3                  0.0            3.77            0.19                0.0   \n",
       "4                  0.0            3.20            0.16                0.0   \n",
       "\n",
       "                                           bill_uuid business_date  \\\n",
       "0  240701091701~4D63608F-523C-4EFF-9A4F-78D6C44B5159    2024-07-01   \n",
       "1  240701133659~3A0BEDE2-E9E5-484D-B909-780E485F0D69    2024-07-01   \n",
       "2  240701111931~670EEB85-E939-4924-B92F-C95076B7E930    2024-07-01   \n",
       "3  240701150558~3D6F473E-D5EF-4BB8-AFAB-30DB2A0764C0    2024-07-01   \n",
       "4  240701124059~0521794C-51FC-4C30-A368-995CE4DE105F    2024-07-01   \n",
       "\n",
       "   order_duration_seconds order_seated_at_local order_closed_at_local  \\\n",
       "0                      46   2024-07-01 09:16:15   2024-07-01 09:17:01   \n",
       "1                     288   2024-07-01 13:32:12   2024-07-01 13:37:00   \n",
       "2                     135   2024-07-01 11:17:17   2024-07-01 11:19:32   \n",
       "3                      48   2024-07-01 15:05:11   2024-07-01 15:05:59   \n",
       "4                     103   2024-07-01 12:39:17   2024-07-01 12:41:00   \n",
       "\n",
       "  order_take_out_type_label  \\\n",
       "0                    dinein   \n",
       "1                    dinein   \n",
       "2                    dinein   \n",
       "3                    dinein   \n",
       "4                    dinein   \n",
       "\n",
       "                                          order_uuid  payment_amount  \\\n",
       "0  240701091615~EF1C6E91-B6C4-4DF1-8A92-1B024197FEC3           21.81   \n",
       "1  240701133212~A4C33BFA-A54F-4627-B0C2-7428427FB5DE           48.95   \n",
       "2  240701111717~6074B0AB-2432-484D-BC3F-55CC5D731818           26.94   \n",
       "3  240701150511~EAA68F41-20ED-4FC7-B902-B0B3878AEC82            3.96   \n",
       "4  240701123917~27764E1C-7E7F-4293-ABC7-5921310A654A            3.36   \n",
       "\n",
       "   payment_count  payment_total_tip  sales_revenue_with_tax  \\\n",
       "0              1                0.0                   21.81   \n",
       "1              1                0.0                   48.95   \n",
       "2              1                0.0                   26.94   \n",
       "3              1                0.0                    3.96   \n",
       "4              1                0.0                    3.36   \n",
       "\n",
       "                                       venue_xref_id  \\\n",
       "0  39e5b4830d4d9c14db7368a95b65d5463ea3d095203737...   \n",
       "1  39e5b4830d4d9c14db7368a95b65d5463ea3d095203737...   \n",
       "2  39e5b4830d4d9c14db7368a95b65d5463ea3d095203737...   \n",
       "3  39e5b4830d4d9c14db7368a95b65d5463ea3d095203737...   \n",
       "4  39e5b4830d4d9c14db7368a95b65d5463ea3d095203737...   \n",
       "\n",
       "                                         waiter_uuid  \n",
       "0  161027134744~719D0E09-5CA7-442A-B9FA-BBBF4083B4FD  \n",
       "1  161027134744~719D0E09-5CA7-442A-B9FA-BBBF4083B4FD  \n",
       "2  161027134744~719D0E09-5CA7-442A-B9FA-BBBF4083B4FD  \n",
       "3  161027134744~719D0E09-5CA7-442A-B9FA-BBBF4083B4FD  \n",
       "4  161027134744~719D0E09-5CA7-442A-B9FA-BBBF4083B4FD  "
      ]
     },
     "execution_count": 5,
     "metadata": {},
     "output_type": "execute_result"
    }
   ],
   "source": [
    "# Load the data\n",
    "venues_df = pd.read_csv('venues.csv')\n",
    "\n",
    "bills_df = pd.read_csv('bills.csv')\n",
    "\n",
    "\n"
   ]
  },
  {
   "cell_type": "code",
   "execution_count": 6,
   "metadata": {},
   "outputs": [
    {
     "data": {
      "text/html": [
       "<div>\n",
       "<style scoped>\n",
       "    .dataframe tbody tr th:only-of-type {\n",
       "        vertical-align: middle;\n",
       "    }\n",
       "\n",
       "    .dataframe tbody tr th {\n",
       "        vertical-align: top;\n",
       "    }\n",
       "\n",
       "    .dataframe thead th {\n",
       "        text-align: right;\n",
       "    }\n",
       "</style>\n",
       "<table border=\"1\" class=\"dataframe\">\n",
       "  <thead>\n",
       "    <tr style=\"text-align: right;\">\n",
       "      <th></th>\n",
       "      <th>venue_xref_id</th>\n",
       "      <th>concept</th>\n",
       "      <th>city</th>\n",
       "      <th>country</th>\n",
       "      <th>start_of_day_offset</th>\n",
       "    </tr>\n",
       "  </thead>\n",
       "  <tbody>\n",
       "    <tr>\n",
       "      <th>0</th>\n",
       "      <td>ea74268311cfcc47d2b4c38ef08b9dab0117226a9a99a9...</td>\n",
       "      <td>FAST_FOOD</td>\n",
       "      <td>Albuquerque</td>\n",
       "      <td>US</td>\n",
       "      <td>00:00:00</td>\n",
       "    </tr>\n",
       "    <tr>\n",
       "      <th>1</th>\n",
       "      <td>e7cec41c46a9706ba1a702b368be5431913b6dc9c9da49...</td>\n",
       "      <td>FAMILY_DINING</td>\n",
       "      <td>Brooklyn</td>\n",
       "      <td>US</td>\n",
       "      <td>00:00:00</td>\n",
       "    </tr>\n",
       "    <tr>\n",
       "      <th>2</th>\n",
       "      <td>e63e79791883b0c4ac71d41eaee727932c13d6a4ec8f78...</td>\n",
       "      <td>FAST_CASUAL</td>\n",
       "      <td>Windsor</td>\n",
       "      <td>CA</td>\n",
       "      <td>00:00:00</td>\n",
       "    </tr>\n",
       "    <tr>\n",
       "      <th>3</th>\n",
       "      <td>c100388c9328b30b6bdfbea43f113d367ae9d32b03e84b...</td>\n",
       "      <td>BAR</td>\n",
       "      <td>Burnaby</td>\n",
       "      <td>CA</td>\n",
       "      <td>01:00:00</td>\n",
       "    </tr>\n",
       "    <tr>\n",
       "      <th>4</th>\n",
       "      <td>a819ee7f83f27dd3d7f44515e22aca3c26e6704ddd2a9b...</td>\n",
       "      <td>FAMILY_DINING</td>\n",
       "      <td>Tisdale</td>\n",
       "      <td>CA</td>\n",
       "      <td>00:00:00</td>\n",
       "    </tr>\n",
       "  </tbody>\n",
       "</table>\n",
       "</div>"
      ],
      "text/plain": [
       "                                       venue_xref_id        concept  \\\n",
       "0  ea74268311cfcc47d2b4c38ef08b9dab0117226a9a99a9...      FAST_FOOD   \n",
       "1  e7cec41c46a9706ba1a702b368be5431913b6dc9c9da49...  FAMILY_DINING   \n",
       "2  e63e79791883b0c4ac71d41eaee727932c13d6a4ec8f78...    FAST_CASUAL   \n",
       "3  c100388c9328b30b6bdfbea43f113d367ae9d32b03e84b...            BAR   \n",
       "4  a819ee7f83f27dd3d7f44515e22aca3c26e6704ddd2a9b...  FAMILY_DINING   \n",
       "\n",
       "          city country start_of_day_offset  \n",
       "0  Albuquerque      US            00:00:00  \n",
       "1     Brooklyn      US            00:00:00  \n",
       "2      Windsor      CA            00:00:00  \n",
       "3      Burnaby      CA            01:00:00  \n",
       "4      Tisdale      CA            00:00:00  "
      ]
     },
     "execution_count": 6,
     "metadata": {},
     "output_type": "execute_result"
    }
   ],
   "source": [
    "venues_df.head()"
   ]
  },
  {
   "cell_type": "code",
   "execution_count": 7,
   "metadata": {},
   "outputs": [
    {
     "data": {
      "text/html": [
       "<div>\n",
       "<style scoped>\n",
       "    .dataframe tbody tr th:only-of-type {\n",
       "        vertical-align: middle;\n",
       "    }\n",
       "\n",
       "    .dataframe tbody tr th {\n",
       "        vertical-align: top;\n",
       "    }\n",
       "\n",
       "    .dataframe thead th {\n",
       "        text-align: right;\n",
       "    }\n",
       "</style>\n",
       "<table border=\"1\" class=\"dataframe\">\n",
       "  <thead>\n",
       "    <tr style=\"text-align: right;\">\n",
       "      <th></th>\n",
       "      <th>bill_paid_at_local</th>\n",
       "      <th>bill_total_billed</th>\n",
       "      <th>bill_total_discount_item_level</th>\n",
       "      <th>bill_total_gratuity</th>\n",
       "      <th>bill_total_net</th>\n",
       "      <th>bill_total_tax</th>\n",
       "      <th>bill_total_voided</th>\n",
       "      <th>bill_uuid</th>\n",
       "      <th>business_date</th>\n",
       "      <th>order_duration_seconds</th>\n",
       "      <th>order_seated_at_local</th>\n",
       "      <th>order_closed_at_local</th>\n",
       "      <th>order_take_out_type_label</th>\n",
       "      <th>order_uuid</th>\n",
       "      <th>payment_amount</th>\n",
       "      <th>payment_count</th>\n",
       "      <th>payment_total_tip</th>\n",
       "      <th>sales_revenue_with_tax</th>\n",
       "      <th>venue_xref_id</th>\n",
       "      <th>waiter_uuid</th>\n",
       "    </tr>\n",
       "  </thead>\n",
       "  <tbody>\n",
       "    <tr>\n",
       "      <th>0</th>\n",
       "      <td>2024-07-01 09:17:01</td>\n",
       "      <td>21.81</td>\n",
       "      <td>0.0</td>\n",
       "      <td>0.0</td>\n",
       "      <td>19.30</td>\n",
       "      <td>2.51</td>\n",
       "      <td>0.0</td>\n",
       "      <td>240701091701~4D63608F-523C-4EFF-9A4F-78D6C44B5159</td>\n",
       "      <td>2024-07-01</td>\n",
       "      <td>46</td>\n",
       "      <td>2024-07-01 09:16:15</td>\n",
       "      <td>2024-07-01 09:17:01</td>\n",
       "      <td>dinein</td>\n",
       "      <td>240701091615~EF1C6E91-B6C4-4DF1-8A92-1B024197FEC3</td>\n",
       "      <td>21.81</td>\n",
       "      <td>1</td>\n",
       "      <td>0.0</td>\n",
       "      <td>21.81</td>\n",
       "      <td>39e5b4830d4d9c14db7368a95b65d5463ea3d095203737...</td>\n",
       "      <td>161027134744~719D0E09-5CA7-442A-B9FA-BBBF4083B4FD</td>\n",
       "    </tr>\n",
       "    <tr>\n",
       "      <th>1</th>\n",
       "      <td>2024-07-01 13:37:00</td>\n",
       "      <td>48.95</td>\n",
       "      <td>0.0</td>\n",
       "      <td>0.0</td>\n",
       "      <td>43.32</td>\n",
       "      <td>5.63</td>\n",
       "      <td>0.0</td>\n",
       "      <td>240701133659~3A0BEDE2-E9E5-484D-B909-780E485F0D69</td>\n",
       "      <td>2024-07-01</td>\n",
       "      <td>288</td>\n",
       "      <td>2024-07-01 13:32:12</td>\n",
       "      <td>2024-07-01 13:37:00</td>\n",
       "      <td>dinein</td>\n",
       "      <td>240701133212~A4C33BFA-A54F-4627-B0C2-7428427FB5DE</td>\n",
       "      <td>48.95</td>\n",
       "      <td>1</td>\n",
       "      <td>0.0</td>\n",
       "      <td>48.95</td>\n",
       "      <td>39e5b4830d4d9c14db7368a95b65d5463ea3d095203737...</td>\n",
       "      <td>161027134744~719D0E09-5CA7-442A-B9FA-BBBF4083B4FD</td>\n",
       "    </tr>\n",
       "    <tr>\n",
       "      <th>2</th>\n",
       "      <td>2024-07-01 11:19:32</td>\n",
       "      <td>26.94</td>\n",
       "      <td>0.0</td>\n",
       "      <td>0.0</td>\n",
       "      <td>23.84</td>\n",
       "      <td>3.10</td>\n",
       "      <td>0.0</td>\n",
       "      <td>240701111931~670EEB85-E939-4924-B92F-C95076B7E930</td>\n",
       "      <td>2024-07-01</td>\n",
       "      <td>135</td>\n",
       "      <td>2024-07-01 11:17:17</td>\n",
       "      <td>2024-07-01 11:19:32</td>\n",
       "      <td>dinein</td>\n",
       "      <td>240701111717~6074B0AB-2432-484D-BC3F-55CC5D731818</td>\n",
       "      <td>26.94</td>\n",
       "      <td>1</td>\n",
       "      <td>0.0</td>\n",
       "      <td>26.94</td>\n",
       "      <td>39e5b4830d4d9c14db7368a95b65d5463ea3d095203737...</td>\n",
       "      <td>161027134744~719D0E09-5CA7-442A-B9FA-BBBF4083B4FD</td>\n",
       "    </tr>\n",
       "    <tr>\n",
       "      <th>3</th>\n",
       "      <td>2024-07-01 15:05:59</td>\n",
       "      <td>3.96</td>\n",
       "      <td>0.0</td>\n",
       "      <td>0.0</td>\n",
       "      <td>3.77</td>\n",
       "      <td>0.19</td>\n",
       "      <td>0.0</td>\n",
       "      <td>240701150558~3D6F473E-D5EF-4BB8-AFAB-30DB2A0764C0</td>\n",
       "      <td>2024-07-01</td>\n",
       "      <td>48</td>\n",
       "      <td>2024-07-01 15:05:11</td>\n",
       "      <td>2024-07-01 15:05:59</td>\n",
       "      <td>dinein</td>\n",
       "      <td>240701150511~EAA68F41-20ED-4FC7-B902-B0B3878AEC82</td>\n",
       "      <td>3.96</td>\n",
       "      <td>1</td>\n",
       "      <td>0.0</td>\n",
       "      <td>3.96</td>\n",
       "      <td>39e5b4830d4d9c14db7368a95b65d5463ea3d095203737...</td>\n",
       "      <td>161027134744~719D0E09-5CA7-442A-B9FA-BBBF4083B4FD</td>\n",
       "    </tr>\n",
       "    <tr>\n",
       "      <th>4</th>\n",
       "      <td>2024-07-01 12:41:00</td>\n",
       "      <td>3.36</td>\n",
       "      <td>0.0</td>\n",
       "      <td>0.0</td>\n",
       "      <td>3.20</td>\n",
       "      <td>0.16</td>\n",
       "      <td>0.0</td>\n",
       "      <td>240701124059~0521794C-51FC-4C30-A368-995CE4DE105F</td>\n",
       "      <td>2024-07-01</td>\n",
       "      <td>103</td>\n",
       "      <td>2024-07-01 12:39:17</td>\n",
       "      <td>2024-07-01 12:41:00</td>\n",
       "      <td>dinein</td>\n",
       "      <td>240701123917~27764E1C-7E7F-4293-ABC7-5921310A654A</td>\n",
       "      <td>3.36</td>\n",
       "      <td>1</td>\n",
       "      <td>0.0</td>\n",
       "      <td>3.36</td>\n",
       "      <td>39e5b4830d4d9c14db7368a95b65d5463ea3d095203737...</td>\n",
       "      <td>161027134744~719D0E09-5CA7-442A-B9FA-BBBF4083B4FD</td>\n",
       "    </tr>\n",
       "  </tbody>\n",
       "</table>\n",
       "</div>"
      ],
      "text/plain": [
       "    bill_paid_at_local  bill_total_billed  bill_total_discount_item_level  \\\n",
       "0  2024-07-01 09:17:01              21.81                             0.0   \n",
       "1  2024-07-01 13:37:00              48.95                             0.0   \n",
       "2  2024-07-01 11:19:32              26.94                             0.0   \n",
       "3  2024-07-01 15:05:59               3.96                             0.0   \n",
       "4  2024-07-01 12:41:00               3.36                             0.0   \n",
       "\n",
       "   bill_total_gratuity  bill_total_net  bill_total_tax  bill_total_voided  \\\n",
       "0                  0.0           19.30            2.51                0.0   \n",
       "1                  0.0           43.32            5.63                0.0   \n",
       "2                  0.0           23.84            3.10                0.0   \n",
       "3                  0.0            3.77            0.19                0.0   \n",
       "4                  0.0            3.20            0.16                0.0   \n",
       "\n",
       "                                           bill_uuid business_date  \\\n",
       "0  240701091701~4D63608F-523C-4EFF-9A4F-78D6C44B5159    2024-07-01   \n",
       "1  240701133659~3A0BEDE2-E9E5-484D-B909-780E485F0D69    2024-07-01   \n",
       "2  240701111931~670EEB85-E939-4924-B92F-C95076B7E930    2024-07-01   \n",
       "3  240701150558~3D6F473E-D5EF-4BB8-AFAB-30DB2A0764C0    2024-07-01   \n",
       "4  240701124059~0521794C-51FC-4C30-A368-995CE4DE105F    2024-07-01   \n",
       "\n",
       "   order_duration_seconds order_seated_at_local order_closed_at_local  \\\n",
       "0                      46   2024-07-01 09:16:15   2024-07-01 09:17:01   \n",
       "1                     288   2024-07-01 13:32:12   2024-07-01 13:37:00   \n",
       "2                     135   2024-07-01 11:17:17   2024-07-01 11:19:32   \n",
       "3                      48   2024-07-01 15:05:11   2024-07-01 15:05:59   \n",
       "4                     103   2024-07-01 12:39:17   2024-07-01 12:41:00   \n",
       "\n",
       "  order_take_out_type_label  \\\n",
       "0                    dinein   \n",
       "1                    dinein   \n",
       "2                    dinein   \n",
       "3                    dinein   \n",
       "4                    dinein   \n",
       "\n",
       "                                          order_uuid  payment_amount  \\\n",
       "0  240701091615~EF1C6E91-B6C4-4DF1-8A92-1B024197FEC3           21.81   \n",
       "1  240701133212~A4C33BFA-A54F-4627-B0C2-7428427FB5DE           48.95   \n",
       "2  240701111717~6074B0AB-2432-484D-BC3F-55CC5D731818           26.94   \n",
       "3  240701150511~EAA68F41-20ED-4FC7-B902-B0B3878AEC82            3.96   \n",
       "4  240701123917~27764E1C-7E7F-4293-ABC7-5921310A654A            3.36   \n",
       "\n",
       "   payment_count  payment_total_tip  sales_revenue_with_tax  \\\n",
       "0              1                0.0                   21.81   \n",
       "1              1                0.0                   48.95   \n",
       "2              1                0.0                   26.94   \n",
       "3              1                0.0                    3.96   \n",
       "4              1                0.0                    3.36   \n",
       "\n",
       "                                       venue_xref_id  \\\n",
       "0  39e5b4830d4d9c14db7368a95b65d5463ea3d095203737...   \n",
       "1  39e5b4830d4d9c14db7368a95b65d5463ea3d095203737...   \n",
       "2  39e5b4830d4d9c14db7368a95b65d5463ea3d095203737...   \n",
       "3  39e5b4830d4d9c14db7368a95b65d5463ea3d095203737...   \n",
       "4  39e5b4830d4d9c14db7368a95b65d5463ea3d095203737...   \n",
       "\n",
       "                                         waiter_uuid  \n",
       "0  161027134744~719D0E09-5CA7-442A-B9FA-BBBF4083B4FD  \n",
       "1  161027134744~719D0E09-5CA7-442A-B9FA-BBBF4083B4FD  \n",
       "2  161027134744~719D0E09-5CA7-442A-B9FA-BBBF4083B4FD  \n",
       "3  161027134744~719D0E09-5CA7-442A-B9FA-BBBF4083B4FD  \n",
       "4  161027134744~719D0E09-5CA7-442A-B9FA-BBBF4083B4FD  "
      ]
     },
     "execution_count": 7,
     "metadata": {},
     "output_type": "execute_result"
    }
   ],
   "source": [
    "bills_df.head()"
   ]
  },
  {
   "cell_type": "markdown",
   "metadata": {},
   "source": [
    "- NAs \n",
    "- Outliers\n"
   ]
  },
  {
   "cell_type": "code",
   "execution_count": 8,
   "metadata": {},
   "outputs": [
    {
     "data": {
      "text/plain": [
       "venue_xref_id            0\n",
       "concept                136\n",
       "city                     0\n",
       "country                  0\n",
       "start_of_day_offset      0\n",
       "dtype: int64"
      ]
     },
     "execution_count": 8,
     "metadata": {},
     "output_type": "execute_result"
    }
   ],
   "source": [
    "# Check for na's in venues_df\n",
    "venues_df.isna().sum()"
   ]
  },
  {
   "cell_type": "code",
   "execution_count": 9,
   "metadata": {},
   "outputs": [
    {
     "data": {
      "text/plain": [
       "bill_paid_at_local                 0\n",
       "bill_total_billed                  0\n",
       "bill_total_discount_item_level     0\n",
       "bill_total_gratuity                0\n",
       "bill_total_net                     0\n",
       "bill_total_tax                     0\n",
       "bill_total_voided                  0\n",
       "bill_uuid                          0\n",
       "business_date                      0\n",
       "order_duration_seconds             0\n",
       "order_seated_at_local              0\n",
       "order_closed_at_local              0\n",
       "order_take_out_type_label          0\n",
       "order_uuid                         0\n",
       "payment_amount                     0\n",
       "payment_count                      0\n",
       "payment_total_tip                  0\n",
       "sales_revenue_with_tax             0\n",
       "venue_xref_id                      0\n",
       "waiter_uuid                       94\n",
       "dtype: int64"
      ]
     },
     "execution_count": 9,
     "metadata": {},
     "output_type": "execute_result"
    }
   ],
   "source": [
    "#check for na's in bills_df\n",
    "bills_df.isna().sum()"
   ]
  },
  {
   "cell_type": "code",
   "execution_count": 10,
   "metadata": {},
   "outputs": [
    {
     "name": "stdout",
     "output_type": "stream",
     "text": [
      "(601, 5)\n",
      "(8954786, 20)\n"
     ]
    }
   ],
   "source": [
    "# Count of rows in dataframes\n",
    "print(venues_df.shape)\n",
    "print(bills_df.shape)"
   ]
  },
  {
   "cell_type": "code",
   "execution_count": 11,
   "metadata": {},
   "outputs": [
    {
     "data": {
      "text/plain": [
       "0"
      ]
     },
     "execution_count": 11,
     "metadata": {},
     "output_type": "execute_result"
    }
   ],
   "source": [
    "#check for duplicates in venues_df venue_id\n",
    "venues_df.duplicated(subset=['venue_xref_id']).sum()"
   ]
  },
  {
   "cell_type": "code",
   "execution_count": 12,
   "metadata": {},
   "outputs": [],
   "source": [
    "# Merge the dataframes by venue_xref_id\n",
    "merged_df = pd.merge(venues_df, bills_df, on='venue_xref_id', how='outer')"
   ]
  },
  {
   "cell_type": "code",
   "execution_count": 13,
   "metadata": {},
   "outputs": [
    {
     "data": {
      "text/plain": [
       "(8954786, 24)"
      ]
     },
     "execution_count": 13,
     "metadata": {},
     "output_type": "execute_result"
    }
   ],
   "source": [
    "# Check shape of merged_df\n",
    "merged_df.shape"
   ]
  },
  {
   "cell_type": "code",
   "execution_count": 14,
   "metadata": {},
   "outputs": [],
   "source": [
    "# Spilt the merged_df by Country\n",
    "us_df = merged_df[merged_df['country'] == 'US'] \n",
    "ca_df = merged_df[merged_df['country'] == 'CA']"
   ]
  },
  {
   "cell_type": "code",
   "execution_count": 17,
   "metadata": {},
   "outputs": [
    {
     "data": {
      "text/plain": [
       "-5072.12"
      ]
     },
     "execution_count": 17,
     "metadata": {},
     "output_type": "execute_result"
    }
   ],
   "source": [
    "ca_df['bill_total_net'].min()"
   ]
  },
  {
   "cell_type": "code",
   "execution_count": 19,
   "metadata": {},
   "outputs": [
    {
     "data": {
      "text/plain": [
       "<matplotlib.collections.PathCollection at 0x16f7bdb1250>"
      ]
     },
     "execution_count": 19,
     "metadata": {},
     "output_type": "execute_result"
    },
    {
     "data": {
      "image/png": "[encoded data removed]",
      "text/plain": [
       "<Figure size 640x480 with 1 Axes>"
      ]
     },
     "metadata": {},
     "output_type": "display_data"
    }
   ],
   "source": [
    "#plot the scatter of bill_total_net for CA\n",
    "plt.scatter(ca_df['bill_total_net'], ca_df['bill_total_net'], color='blue')"
   ]
  },
  {
   "cell_type": "code",
   "execution_count": 16,
   "metadata": {},
   "outputs": [
    {
     "data": {
      "text/plain": [
       "concept\n",
       "BAKERY                   1.510278e+01\n",
       "BAR                      3.820506e+01\n",
       "BREWERY                  4.231891e+01\n",
       "BUFFET                   9.700472e+01\n",
       "CAFE                     1.854361e+01\n",
       "ENTERTAINMENT_COMPLEX    5.169325e+00\n",
       "FAMILY_DINING            4.427241e+01\n",
       "FAST_CASUAL              2.612446e+01\n",
       "FAST_FOOD                2.464189e+01\n",
       "FINE_DINING              4.734037e+01\n",
       "SPORTS_CLUB             -7.894919e-16\n",
       "Name: bill_total_net, dtype: float64"
      ]
     },
     "execution_count": 16,
     "metadata": {},
     "output_type": "execute_result"
    }
   ],
   "source": [
    "# Check the average bill_total_net by Concept for the CA dataset\n",
    "ca_df.groupby('concept')['bill_total_net'].mean() "
   ]
  },
  {
   "cell_type": "code",
   "execution_count": null,
   "metadata": {},
   "outputs": [],
   "source": []
  }
 ],
 "metadata": {
  "kernelspec": {
   "display_name": "Python 3",
   "language": "python",
   "name": "python3"
  },
  "language_info": {
   "codemirror_mode": {
    "name": "ipython",
    "version": 3
   },
   "file_extension": ".py",
   "mimetype": "text/x-python",
   "name": "python",
   "nbconvert_exporter": "python",
   "pygments_lexer": "ipython3",
   "version": "3.11.9"
  }
 },
 "nbformat": 4,
 "nbformat_minor": 2
}
